{
 "cells": [
  {
   "cell_type": "markdown",
   "metadata": {},
   "source": [
    "# Transcribe Audio or Video (Multilingual)\n",
    "Author: Jiawen Zhu"
   ]
  },
  {
   "cell_type": "code",
   "execution_count": 2,
   "metadata": {},
   "outputs": [],
   "source": [
    "from openai import OpenAI\n",
    "import os\n",
    "import subprocess\n",
    "from pydub import AudioSegment"
   ]
  },
  {
   "cell_type": "code",
   "execution_count": null,
   "metadata": {},
   "outputs": [],
   "source": [
    "client = OpenAI() # provide OpenAI API key in .env"
   ]
  },
  {
   "cell_type": "code",
   "execution_count": 3,
   "metadata": {},
   "outputs": [],
   "source": [
    "n = 12 # number of interviews"
   ]
  },
  {
   "cell_type": "markdown",
   "metadata": {},
   "source": [
    "**Input Directory Structure**\n",
    "\n",
    "```\n",
    "/root\n",
    "    /transcriptions\n",
    "        whisper-transcribe.ipynb\n",
    "    /recordings\n",
    "        /P1\n",
    "            P1.mp4\n",
    "        /P2\n",
    "            P2.mp3\n",
    "        /P3\n",
    "            P3.mkv\n",
    "        ...\n",
    "```"
   ]
  },
  {
   "cell_type": "markdown",
   "metadata": {},
   "source": [
    "**Output Directory Structure**\n",
    "\n",
    "```\n",
    "/root\n",
    "    /transcriptions\n",
    "        whisper-transcribe.ipynb\n",
    "        P1.txt\n",
    "        P2.txt\n",
    "        P3.txt\n",
    "        ...\n",
    "    /recordings\n",
    "        /P1\n",
    "            P1.mp4\n",
    "            P1.mp3\n",
    "        /P2\n",
    "            P2.mp3\n",
    "        /P3\n",
    "            P3.mkv\n",
    "            P3.mp3\n",
    "        ...\n",
    "```"
   ]
  },
  {
   "cell_type": "markdown",
   "metadata": {},
   "source": [
    "# \\[Optional\\] Extract Audio (MP3) from Video Files (MP4/MKV)"
   ]
  },
  {
   "cell_type": "code",
   "execution_count": null,
   "metadata": {},
   "outputs": [],
   "source": [
    "# extract MP3 files\n",
    "for pid in range(1, n + 1):\n",
    "    print(f\"Extracting audio for P{pid} ...\")\n",
    "    fileName = f\"P{pid}\"\n",
    "    recordings_dir = f\"../recordings/{fileName}\"\n",
    "\n",
    "    mp3_files = [file for file in os.listdir(recordings_dir) if file.endswith(\".mp3\")]\n",
    "    if len(mp3_files) > 0:\n",
    "        print(f\"MP3 file already exists for {fileName}\")\n",
    "        continue\n",
    "\n",
    "    # find video file\n",
    "    mp4_files = [file for file in os.listdir(recordings_dir) if file.endswith(\".mp4\")]\n",
    "    mkv_files = [file for file in os.listdir(recordings_dir) if file.endswith(\".mkv\")]\n",
    "\n",
    "    if mp4_files:\n",
    "        input_file = mp4_files[0]\n",
    "    elif mkv_files:\n",
    "        input_file = mkv_files[0]\n",
    "    else:\n",
    "        raise FileNotFoundError(\"No .mp4 or .mkv files found in the directory!\")\n",
    "\n",
    "    # Construct the input and output paths\n",
    "    input_path = os.path.join(recordings_dir, input_file)\n",
    "    output_path = os.path.join(recordings_dir, f\"{fileName}.mp3\")\n",
    "\n",
    "    # extract audio\n",
    "    subprocess.call(f\"ffmpeg -i \\\"{input_path}\\\" \\\"{output_path}\\\"\", shell=True)"
   ]
  },
  {
   "cell_type": "markdown",
   "metadata": {},
   "source": [
    "# Transcribe Audio Files (MP3)"
   ]
  },
  {
   "cell_type": "code",
   "execution_count": 52,
   "metadata": {},
   "outputs": [],
   "source": [
    "# transcribe long recordings (> 20 min) to account for OpenAI API token limit\n",
    "def transcribeLongAudio(file_path, output_file, chunk_duration=20 * 60):\n",
    "    audio = AudioSegment.from_file(file_path)\n",
    "    audio_duration = len(audio) / 1000  # in seconds\n",
    "    \n",
    "    # split into chunks\n",
    "    chunks = []\n",
    "    for i in range(0, int(audio_duration), chunk_duration):\n",
    "        start = i * 1000  # Start time in milliseconds\n",
    "        end = min((i + chunk_duration) * 1000, len(audio))  # End time in ms\n",
    "        chunks.append(audio[start:end])\n",
    "    \n",
    "    # transcribe chunks\n",
    "    transcription = []\n",
    "    for idx, chunk in enumerate(chunks):\n",
    "        temp_chunk_path = f\"chunk_{idx}.mp3\"\n",
    "        chunk.export(temp_chunk_path, format=\"mp3\")\n",
    "        \n",
    "        with open(temp_chunk_path, \"rb\") as audio_file:\n",
    "            chunk_transcription = client.audio.transcriptions.create(\n",
    "                model=\"whisper-1\",\n",
    "                file=audio_file\n",
    "            )\n",
    "            transcription.append(chunk_transcription.text)\n",
    "        \n",
    "        # clean up tmp files\n",
    "        os.remove(temp_chunk_path)\n",
    "    \n",
    "    # concatenate all chunks\n",
    "    full_transcription = \"\\n\".join(transcription)\n",
    "    \n",
    "    # save to file\n",
    "    if output_file:\n",
    "        with open(output_file, \"w\") as f:\n",
    "            f.write(full_transcription)\n",
    "\n",
    "    return full_transcription"
   ]
  },
  {
   "cell_type": "code",
   "execution_count": null,
   "metadata": {},
   "outputs": [],
   "source": [
    "# transcribe MP3 files\n",
    "for pid in range(1, n + 1):\n",
    "    print(f\"Transcribing P{pid} ...\")\n",
    "\n",
    "    # file\n",
    "    fileName = f\"P{pid}-{j}\"\n",
    "    filePath = f\"../recordings/{fileName}/{fileName}.mp3\"\n",
    "\n",
    "    audio_file= open(filePath, \"rb\")\n",
    "    audio = AudioSegment.from_file(filePath)\n",
    "    audio_duration = len(audio) / 1000  # Convert to seconds\n",
    "\n",
    "    # transcribe\n",
    "    if audio_duration <= 20 * 60:\n",
    "        transcription = client.audio.transcriptions.create(\n",
    "            model=\"whisper-1\", \n",
    "            file=audio_file\n",
    "        )\n",
    "\n",
    "        with open(f\"{fileName}.txt\", \"w\") as file:\n",
    "            file.write(transcription.text)\n",
    "    else: # transcribe recordings >20 min in chunks\n",
    "        transcribeLongAudio(filePath, f\"{fileName}.txt\")\n",
    "    \n",
    "    print(f\"{fileName} transcribed.\\n\")"
   ]
  }
 ],
 "metadata": {
  "kernelspec": {
   "display_name": "analysis",
   "language": "python",
   "name": "python3"
  },
  "language_info": {
   "codemirror_mode": {
    "name": "ipython",
    "version": 3
   },
   "file_extension": ".py",
   "mimetype": "text/x-python",
   "name": "python",
   "nbconvert_exporter": "python",
   "pygments_lexer": "ipython3",
   "version": "3.10.15"
  }
 },
 "nbformat": 4,
 "nbformat_minor": 2
}
